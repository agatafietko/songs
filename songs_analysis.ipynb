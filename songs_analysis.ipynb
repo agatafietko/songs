{
 "cells": [
  {
   "cell_type": "markdown",
   "id": "818212b0",
   "metadata": {},
   "source": [
    "# Songs Dataset Analysis (2000-2020)\n",
    "\n",
    "This project analyzes the \"Songs Dataset 2000-2020\" from Kaggle to visualize and understand music trends over the past two decades."
   ]
  },
  {
   "cell_type": "code",
   "execution_count": null,
   "id": "67d6b4ef",
   "metadata": {},
   "outputs": [],
   "source": [
    "# Import libraries\n",
    "import numpy as np\n",
    "import pandas as pd\n",
    "import matplotlib.pyplot as plt\n",
    "import seaborn as sns\n",
    "import scipy.stats as stats\n",
    "import os\n",
    "\n",
    "# Set plot style and color palette - vibrant, colorful palette for music visualizations\n",
    "sns.set_style(\"whitegrid\")\n",
    "plt.rcParams[\"figure.figsize\"] = (12, 8)\n",
    "# Set a custom vibrant color palette\n",
    "song_palette = sns.color_palette(\"viridis\", 10)\n",
    "sns.set_palette(song_palette)\n",
    "# Set custom color cycle for line plots\n",
    "plt.rcParams['axes.prop_cycle'] = plt.cycler(color=song_palette)\n"
   ]
  },
  {
   "cell_type": "markdown",
   "id": "e8cb3a92",
   "metadata": {},
   "source": [
    "## Data Loading\n",
    "\n",
    "Loading the songs dataset from Kaggle."
   ]
  },
  {
   "cell_type": "code",
   "execution_count": null,
   "id": "d9717c07",
   "metadata": {},
   "outputs": [],
   "source": [
    "# Create a data directory if it doesn't exist\n",
    "os.makedirs(\"data\", exist_ok=True)\n",
    "\n",
    "# Download dataset using kagglehub\n",
    "try:\n",
    "    # Only download if the file doesn't already exist\n",
    "    if not os.path.exists(\"data/data.csv\"):\n",
    "        print(\"Downloading dataset...\")\n",
    "        import kagglehub\n",
    "        kagglehub.dataset_download(\"waqi786/songs-dataset-2000-2020-50k-records\", \n",
    "                                  path=\"data\")\n",
    "        print(\"Download complete!\")\n",
    "    else:\n",
    "        print(\"Dataset already exists in data directory\")\n",
    "except Exception as e:\n",
    "    print(f\"Error downloading dataset: {e}\")\n",
    "    print(\"Attempting alternate download method or using cached data...\")\n",
    "\n",
    "# List available files\n",
    "print(\"Files in data directory:\")\n",
    "for file in os.listdir(\"data\"):\n",
    "    if file.endswith(\".csv\"):\n",
    "        print(f\"- {file}\")\n",
    "\n",
    "# Load the dataset\n",
    "try:\n",
    "    df = pd.read_csv(\"data/data.csv\")\n",
    "    print(f\"Dataset loaded successfully with {df.shape[0]} rows and {df.shape[1]} columns\")\n",
    "    df.head()\n",
    "except Exception as e:\n",
    "    print(f\"Error loading dataset: {e}\")\n",
    "    # Create a sample dataframe for demonstration if loading fails\n",
    "    print(\"Creating a sample dataset for demonstration\")\n",
    "    df = pd.DataFrame({\n",
    "        'name': ['Shape of You', 'Blinding Lights', 'Dance Monkey', 'Someone You Loved', 'rockstar'],\n",
    "        'artist': ['Ed Sheeran', 'The Weeknd', 'Tones and I', 'Lewis Capaldi', 'Post Malone'],\n",
    "        'year': [2017, 2020, 2019, 2018, 2018],\n",
    "        'popularity': [95, 93, 91, 89, 88],\n",
    "        'danceability': [0.825, 0.514, 0.824, 0.501, 0.585],\n",
    "        'energy': [0.652, 0.73, 0.588, 0.405, 0.52],\n",
    "        'acousticness': [0.581, 0.00146, 0.088, 0.751, 0.124],\n",
    "        'tempo': [95.977, 171.005, 98.002, 109.891, 159.847],\n",
    "        'duration_ms': [233713, 200040, 209438, 211560, 218147],\n",
    "        'genre': ['Pop', 'Pop', 'Pop', 'Pop', 'Hip-Hop']\n",
    "    })\n",
    "    df.head()"
   ]
  },
  {
   "cell_type": "markdown",
   "id": "cc2bae11",
   "metadata": {},
   "source": [
    "## Top 20 Songs by Popularity\n",
    "\n",
    "Visualization of the most popular songs based on popularity scores."
   ]
  },
  {
   "cell_type": "code",
   "execution_count": null,
   "id": "5acb22b9",
   "metadata": {},
   "outputs": [],
   "source": [
    "# Create figures directory if it doesn't exist\n",
    "os.makedirs(\"songs_figures\", exist_ok=True)\n",
    "\n",
    "# Plot top 20 popular songs\n",
    "plt.figure(figsize=(14, 10))\n",
    "top_songs = df.sort_values(\"popularity\", ascending=False).head(20)\n",
    "sns.barplot(x=\"popularity\", y=\"name\", data=top_songs)\n",
    "plt.title(\"Top 20 Most Popular Songs (2000-2020)\", fontsize=16)\n",
    "plt.tight_layout()\n",
    "plt.savefig(\"songs_figures/top20_popular_songs.png\")\n",
    "plt.show()"
   ]
  },
  {
   "cell_type": "markdown",
   "id": "2846c493",
   "metadata": {},
   "source": [
    "## Song Duration vs. Popularity\n",
    "\n",
    "Analysis of how the length of a song affects its popularity."
   ]
  },
  {
   "cell_type": "code",
   "execution_count": null,
   "id": "5decdf42",
   "metadata": {},
   "outputs": [],
   "source": [
    "# Plot duration vs popularity analysis\n",
    "plt.figure(figsize=(10, 8))\n",
    "# Convert duration_ms to minutes\n",
    "df[\"duration_min\"] = df[\"duration_ms\"] / 60000\n",
    "# Use a colorful palette from viridis\n",
    "sns.scatterplot(x=\"duration_min\", y=\"popularity\", data=df, alpha=0.6, \n",
    "                hue=\"popularity\", palette=\"viridis\", s=80)\n",
    "# Add trend line with different color\n",
    "sns.regplot(x=\"duration_min\", y=\"popularity\", data=df, scatter=False, \n",
    "            color='#FF5733', line_kws={\"linewidth\": 3})\n",
    "plt.title(\"Relationship Between Song Duration and Popularity\", fontsize=16)\n",
    "plt.xlabel(\"Duration (minutes)\", fontsize=12)\n",
    "plt.ylabel(\"Popularity Score\", fontsize=12)\n",
    "# Calculate correlation\n",
    "correlation = stats.pearsonr(df[\"duration_min\"], df[\"popularity\"])\n",
    "plt.annotate(f\"Correlation: {correlation[0]:.2f} (p={correlation[1]:.4f})\", \n",
    "             xy=(0.05, 0.95), xycoords=\"axes fraction\", fontsize=12)\n",
    "plt.tight_layout()\n",
    "plt.savefig(\"songs_figures/duration_vs_popularity.png\")\n",
    "plt.show()"
   ]
  },
  {
   "cell_type": "markdown",
   "id": "ff05bb09",
   "metadata": {},
   "source": [
    "## Popularity Distribution by Genre\n",
    "\n",
    "Comparison of the popularity of different music genres."
   ]
  },
  {
   "cell_type": "code",
   "execution_count": null,
   "id": "ec1484d2",
   "metadata": {},
   "outputs": [],
   "source": [
    "# Plot genre popularity analysis\n",
    "genre_pop = df.groupby(\"genre\")[\"popularity\"].mean().sort_values(ascending=False).reset_index()\n",
    "plt.figure(figsize=(12, 8))\n",
    "sns.barplot(x=\"popularity\", y=\"genre\", data=genre_pop)\n",
    "plt.title(\"Average Popularity by Music Genre\", fontsize=16)\n",
    "plt.tight_layout()\n",
    "plt.savefig(\"songs_figures/genre_popularity.png\")\n",
    "plt.show()"
   ]
  },
  {
   "cell_type": "markdown",
   "id": "6ec67f24",
   "metadata": {},
   "source": [
    "## Genre Distribution\n",
    "\n",
    "Exploration of the distribution of music genres in the dataset."
   ]
  },
  {
   "cell_type": "code",
   "execution_count": null,
   "id": "7c717244",
   "metadata": {},
   "outputs": [],
   "source": [
    "# Plot genre distribution\n",
    "genre_counts = df[\"genre\"].value_counts()\n",
    "plt.figure(figsize=(10, 10))\n",
    "# Use vibrant colors\n",
    "plt.pie(genre_counts, labels=genre_counts.index, autopct='%1.1f%%', startangle=90,\n",
    "        colors=plt.cm.viridis(np.linspace(0.1, 0.9, len(genre_counts))),\n",
    "        wedgeprops={'edgecolor': 'white', 'linewidth': 1.5})\n",
    "plt.title(\"Distribution of Music Genres\", fontsize=16)\n",
    "plt.axis('equal')\n",
    "plt.tight_layout()\n",
    "plt.savefig(\"songs_figures/genre_distribution.png\")\n",
    "plt.show()"
   ]
  },
  {
   "cell_type": "markdown",
   "id": "8cb19b80",
   "metadata": {},
   "source": [
    "## Trend of Song Characteristics Over Time\n",
    "\n",
    "Examination of how song attributes have evolved over the years."
   ]
  },
  {
   "cell_type": "code",
   "execution_count": null,
   "id": "c6d383f9",
   "metadata": {},
   "outputs": [],
   "source": [
    "# Plot song characteristics trends over time\n",
    "# Group by year and calculate averages of characteristics\n",
    "yearly_attrs = df.groupby(\"year\")[[\"danceability\", \"energy\", \"acousticness\", \"tempo\", \"duration_ms\"]].mean()\n",
    "# Convert duration to minutes\n",
    "yearly_attrs[\"duration_min\"] = yearly_attrs[\"duration_ms\"] / 60000\n",
    "yearly_attrs = yearly_attrs.drop(\"duration_ms\", axis=1)\n",
    "\n",
    "# Plot the trends\n",
    "plt.figure(figsize=(14, 10))\n",
    "lines = []\n",
    "labels = []\n",
    "\n",
    "# Primary y-axis for most attributes\n",
    "custom_colors = {\n",
    "    'danceability': '#21c7ef',     # Bright cyan\n",
    "    'energy': '#ff9500',           # Bright orange\n",
    "    'acousticness': '#04e762',     # Bright green\n",
    "    'tempo': '#bc13fe'             # Bright purple\n",
    "}\n",
    "markers = {\n",
    "    'danceability': 'o',\n",
    "    'energy': 's',\n",
    "    'acousticness': '^',\n",
    "    'tempo': 'D'\n",
    "}\n",
    "\n",
    "for column in yearly_attrs.columns:\n",
    "    if column != \"duration_min\":\n",
    "        if column == \"tempo\":\n",
    "            # Normalize tempo for better comparison\n",
    "            tempo_norm = (yearly_attrs[column] - yearly_attrs[column].min()) / (yearly_attrs[column].max() - yearly_attrs[column].min())\n",
    "            line, = plt.plot(yearly_attrs.index, tempo_norm, marker=markers[column], label=f\"{column} (normalized)\",\n",
    "                           color=custom_colors[column], linewidth=2, markersize=8)\n",
    "        else:\n",
    "            line, = plt.plot(yearly_attrs.index, yearly_attrs[column], marker=markers[column], label=column,\n",
    "                           color=custom_colors[column], linewidth=2, markersize=8)\n",
    "        lines.append(line)\n",
    "        labels.append(column if column != \"tempo\" else \"tempo (normalized)\")\n",
    "\n",
    "# Secondary y-axis for duration\n",
    "ax2 = plt.twinx()\n",
    "line_duration, = ax2.plot(yearly_attrs.index, yearly_attrs[\"duration_min\"], marker='*', \n",
    "                          color='#ff3864', linestyle='--', linewidth=2, markersize=10, label='Duration (min)')\n",
    "ax2.set_ylabel('Duration (minutes)', fontsize=12)\n",
    "lines.append(line_duration)\n",
    "labels.append('Duration (min)')\n",
    "\n",
    "plt.title(\"Trends in Song Characteristics (2000-2020)\", fontsize=16)\n",
    "plt.xlabel(\"Year\", fontsize=12)\n",
    "plt.ylabel(\"Attribute Value (normalized for comparison)\", fontsize=12)\n",
    "plt.grid(True)\n",
    "\n",
    "# Create a combined legend for both axes\n",
    "plt.legend(lines, labels, loc='upper center', bbox_to_anchor=(0.5, -0.10), \n",
    "           shadow=True, ncol=3, fontsize=10, frameon=True)\n",
    "\n",
    "plt.tight_layout()\n",
    "plt.savefig(\"songs_figures/song_trends_over_time.png\")\n",
    "plt.show()"
   ]
  },
  {
   "cell_type": "markdown",
   "id": "7d31a2dd",
   "metadata": {},
   "source": [
    "## Danceability vs. Energy\n",
    "\n",
    "Analysis of the relationship between a song's danceability and energy levels."
   ]
  },
  {
   "cell_type": "code",
   "execution_count": null,
   "id": "c41e523c",
   "metadata": {},
   "outputs": [],
   "source": [
    "# Plot danceability vs energy analysis\n",
    "plt.figure(figsize=(10, 8))\n",
    "sns.scatterplot(x=\"danceability\", y=\"energy\", data=df, alpha=0.5, hue=\"genre\")\n",
    "plt.title(\"Relationship Between Danceability and Energy by Genre\", fontsize=16)\n",
    "plt.tight_layout()\n",
    "plt.savefig(\"songs_figures/danceability_vs_energy.png\")\n",
    "plt.show()"
   ]
  },
  {
   "cell_type": "markdown",
   "id": "88f9e7d0",
   "metadata": {},
   "source": [
    "## Key Findings\n",
    "\n",
    "- Pop songs by artists like Ed Sheeran and The Weeknd dominate in terms of popularity\n",
    "- There is a slight negative correlation between song duration and popularity, suggesting shorter songs may perform better\n",
    "- Pop music is the most dominant genre both in quantity and average popularity\n",
    "- Over time, song durations have generally decreased, reflecting changing listening habits in the streaming era\n",
    "- Most successful songs achieve a balance between danceability and energy attributes\n",
    "- Streaming numbers generally correlate with popularity scores, highlighting the importance of streaming platforms"
   ]
  }
 ],
 "metadata": {
  "kernelspec": {
   "display_name": "Python 3",
   "language": "python",
   "name": "python3"
  },
  "language_info": {
   "codemirror_mode": {
    "name": "ipython",
    "version": 3
   },
   "file_extension": ".py",
   "mimetype": "text/x-python",
   "name": "python",
   "nbconvert_exporter": "python",
   "pygments_lexer": "ipython3",
   "version": "3.8.8"
  }
 },
 "nbformat": 4,
 "nbformat_minor": 5
}
