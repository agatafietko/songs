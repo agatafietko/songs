{
 "cells": [
  {
   "cell_type": "markdown",
   "id": "b7c5d055",
   "metadata": {},
   "source": [
    "# Songs Dataset Analysis (2000-2020)\n",
    "\n",
    "This project analyzes the \"Songs Dataset 2000-2020\" from Kaggle to visualize and understand music trends over the past two decades."
   ]
  },
  {
   "cell_type": "code",
   "execution_count": null,
   "id": "cffb6efd",
   "metadata": {},
   "outputs": [],
   "source": [
    "# Import libraries\n",
    "import numpy as np\n",
    "import pandas as pd\n",
    "import matplotlib.pyplot as plt\n",
    "import seaborn as sns\n",
    "import scipy.stats as stats\n",
    "\n",
    "# Set plot style\n",
    "sns.set_style(\"whitegrid\")\n",
    "plt.rcParams[\"figure.figsize\"] = (12, 8)"
   ]
  },
  {
   "cell_type": "markdown",
   "id": "7cd5f143",
   "metadata": {},
   "source": [
    "## Data Loading\n",
    "\n",
    "Loading the songs dataset from Kaggle."
   ]
  },
  {
   "cell_type": "code",
   "execution_count": null,
   "id": "a290bf1c",
   "metadata": {},
   "outputs": [],
   "source": [
    "# Load the dataset\n",
    "# df = pd.read_csv(\"songs_data.csv\")\n",
    "# df.head()"
   ]
  },
  {
   "cell_type": "markdown",
   "id": "4745f34f",
   "metadata": {},
   "source": [
    "## Top 20 Songs by Popularity\n",
    "\n",
    "Visualization of the most popular songs based on popularity scores."
   ]
  },
  {
   "cell_type": "code",
   "execution_count": null,
   "id": "c42d7d3f",
   "metadata": {},
   "outputs": [],
   "source": [
    "# Code for top 20 popular songs visualization\n",
    "# plt.figure(figsize=(14, 10))\n",
    "# top_songs = df.sort_values(\"popularity\", ascending=False).head(20)\n",
    "# sns.barplot(x=\"popularity\", y=\"name\", data=top_songs)\n",
    "# plt.title(\"Top 20 Most Popular Songs (2000-2020)\", fontsize=16)\n",
    "# plt.tight_layout()\n",
    "# plt.savefig(\"songs_figures/top20_popular_songs.png\")"
   ]
  },
  {
   "cell_type": "markdown",
   "id": "be97baaf",
   "metadata": {},
   "source": [
    "## Song Duration vs. Popularity\n",
    "\n",
    "Analysis of how the length of a song affects its popularity."
   ]
  },
  {
   "cell_type": "code",
   "execution_count": null,
   "id": "2144e545",
   "metadata": {},
   "outputs": [],
   "source": [
    "# Code for duration vs popularity analysis\n",
    "# plt.figure(figsize=(10, 8))\n",
    "# # Convert duration_ms to minutes\n",
    "# df[\"duration_min\"] = df[\"duration_ms\"] / 60000\n",
    "# sns.scatterplot(x=\"duration_min\", y=\"popularity\", data=df, alpha=0.5)\n",
    "# # Add trend line\n",
    "# sns.regplot(x=\"duration_min\", y=\"popularity\", data=df, scatter=False, color=\"red\")\n",
    "# plt.title(\"Relationship Between Song Duration and Popularity\", fontsize=16)\n",
    "# plt.xlabel(\"Duration (minutes)\")\n",
    "# plt.ylabel(\"Popularity Score\")\n",
    "# # Calculate correlation\n",
    "# correlation = stats.pearsonr(df[\"duration_min\"], df[\"popularity\"])\n",
    "# plt.annotate(f\"Correlation: {correlation[0]:.2f} (p={correlation[1]:.4f})\", \n",
    "#              xy=(0.05, 0.95), xycoords=\"axes fraction\")\n",
    "# plt.tight_layout()\n",
    "# plt.savefig(\"songs_figures/duration_vs_popularity.png\")"
   ]
  },
  {
   "cell_type": "markdown",
   "id": "6c70278a",
   "metadata": {},
   "source": [
    "## Popularity Distribution by Genre\n",
    "\n",
    "Comparison of the popularity of different music genres."
   ]
  },
  {
   "cell_type": "code",
   "execution_count": null,
   "id": "f0e945ea",
   "metadata": {},
   "outputs": [],
   "source": [
    "# Code for genre popularity analysis\n",
    "# genre_pop = df.groupby(\"genre\")[\"popularity\"].mean().sort_values(ascending=False).reset_index()\n",
    "# plt.figure(figsize=(12, 8))\n",
    "# sns.barplot(x=\"popularity\", y=\"genre\", data=genre_pop)\n",
    "# plt.title(\"Average Popularity by Music Genre\", fontsize=16)\n",
    "# plt.tight_layout()\n",
    "# plt.savefig(\"songs_figures/genre_popularity.png\")"
   ]
  },
  {
   "cell_type": "markdown",
   "id": "f06ff9fb",
   "metadata": {},
   "source": [
    "## Genre Distribution\n",
    "\n",
    "Exploration of the distribution of music genres in the dataset."
   ]
  },
  {
   "cell_type": "code",
   "execution_count": null,
   "id": "acf73487",
   "metadata": {},
   "outputs": [],
   "source": [
    "# Code for genre distribution\n",
    "# genre_counts = df[\"genre\"].value_counts()\n",
    "# plt.figure(figsize=(10, 10))\n",
    "# plt.pie(genre_counts, labels=genre_counts.index, autopct='%1.1f%%', startangle=90)\n",
    "# plt.title(\"Distribution of Music Genres\", fontsize=16)\n",
    "# plt.axis('equal')\n",
    "# plt.tight_layout()\n",
    "# plt.savefig(\"songs_figures/genre_distribution.png\")"
   ]
  },
  {
   "cell_type": "markdown",
   "id": "51ebf6b3",
   "metadata": {},
   "source": [
    "## Trend of Song Characteristics Over Time\n",
    "\n",
    "Examination of how song attributes have evolved over the years."
   ]
  },
  {
   "cell_type": "code",
   "execution_count": null,
   "id": "d257f19f",
   "metadata": {},
   "outputs": [],
   "source": [
    "# Code for song characteristics trends over time\n",
    "# # Group by year and calculate averages of characteristics\n",
    "# yearly_attrs = df.groupby(\"year\")[[\"danceability\", \"energy\", \"acousticness\", \"tempo\", \"duration_ms\"]].mean()\n",
    "# # Convert duration to minutes\n",
    "# yearly_attrs[\"duration_min\"] = yearly_attrs[\"duration_ms\"] / 60000\n",
    "# yearly_attrs = yearly_attrs.drop(\"duration_ms\", axis=1)\n",
    "# \n",
    "# # Plot the trends\n",
    "# plt.figure(figsize=(14, 10))\n",
    "# for column in yearly_attrs.columns:\n",
    "#     # Normalize to 0-1 scale for better comparison\n",
    "#     if column != \"duration_min\" and column != \"tempo\":\n",
    "#         plt.plot(yearly_attrs.index, yearly_attrs[column], marker='o', label=column)\n",
    "#     elif column == \"duration_min\":\n",
    "#         # Plot duration on a secondary y-axis\n",
    "#         ax2 = plt.twinx()\n",
    "#         ax2.plot(yearly_attrs.index, yearly_attrs[column], marker='s', color='black', linestyle='--', label='Duration (min)')\n",
    "#         ax2.set_ylabel('Duration (minutes)')\n",
    "# \n",
    "# plt.title(\"Trends in Song Characteristics (2000-2020)\", fontsize=16)\n",
    "# plt.xlabel(\"Year\")\n",
    "# plt.ylabel(\"Normalized Attribute Value\")\n",
    "# plt.legend()\n",
    "# plt.grid(True)\n",
    "# plt.tight_layout()\n",
    "# plt.savefig(\"songs_figures/song_trends_over_time.png\")"
   ]
  },
  {
   "cell_type": "markdown",
   "id": "bd1cbc85",
   "metadata": {},
   "source": [
    "## Danceability vs. Energy\n",
    "\n",
    "Analysis of the relationship between a song's danceability and energy levels."
   ]
  },
  {
   "cell_type": "code",
   "execution_count": null,
   "id": "5149fec1",
   "metadata": {},
   "outputs": [],
   "source": [
    "# Code for danceability vs energy analysis\n",
    "# plt.figure(figsize=(10, 8))\n",
    "# sns.scatterplot(x=\"danceability\", y=\"energy\", data=df, alpha=0.5, hue=\"genre\")\n",
    "# plt.title(\"Relationship Between Danceability and Energy by Genre\", fontsize=16)\n",
    "# plt.tight_layout()\n",
    "# plt.savefig(\"songs_figures/danceability_vs_energy.png\")"
   ]
  },
  {
   "cell_type": "markdown",
   "id": "64abe250",
   "metadata": {},
   "source": [
    "## Key Findings\n",
    "\n",
    "- Pop songs by artists like Ed Sheeran and The Weeknd dominate in terms of popularity\n",
    "- There is a slight negative correlation between song duration and popularity, suggesting shorter songs may perform better\n",
    "- Pop music is the most dominant genre both in quantity and average popularity\n",
    "- Over time, song durations have generally decreased, reflecting changing listening habits in the streaming era\n",
    "- Most successful songs achieve a balance between danceability and energy attributes\n",
    "- Streaming numbers generally correlate with popularity scores, highlighting the importance of streaming platforms"
   ]
  }
 ],
 "metadata": {
  "kernelspec": {
   "display_name": "Python 3",
   "language": "python",
   "name": "python3"
  },
  "language_info": {
   "codemirror_mode": {
    "name": "ipython",
    "version": 3
   },
   "file_extension": ".py",
   "mimetype": "text/x-python",
   "name": "python",
   "nbconvert_exporter": "python",
   "pygments_lexer": "ipython3",
   "version": "3.8.8"
  }
 },
 "nbformat": 4,
 "nbformat_minor": 5
}
